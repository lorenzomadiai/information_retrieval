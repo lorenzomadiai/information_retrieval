{
  "nbformat": 4,
  "nbformat_minor": 0,
  "metadata": {
    "colab": {
      "provenance": [],
      "machine_shape": "hm",
      "include_colab_link": true
    },
    "kernelspec": {
      "name": "python3",
      "display_name": "Python 3"
    },
    "gpuClass": "standard"
  },
  "cells": [
    {
      "cell_type": "markdown",
      "metadata": {
        "id": "view-in-github",
        "colab_type": "text"
      },
      "source": [
        "<a href=\"https://colab.research.google.com/github/lorenzomadiai/information_retrieval/blob/main/bm25_pyserini_msmarco_passage_demo_(Assignment).ipynb\" target=\"_parent\"><img src=\"https://colab.research.google.com/assets/colab-badge.svg\" alt=\"Open In Colab\"/></a>"
      ]
    },
    {
      "cell_type": "markdown",
      "metadata": {
        "id": "vUpmSFflwzR1"
      },
      "source": [
        "# Pyserini Demo on the MS MARCO Passage Dataset"
      ]
    },
    {
      "cell_type": "markdown",
      "metadata": {
        "id": "-2PzgU4YxIl3"
      },
      "source": [
        "This notebook replicates the BM25 baseline for the [MS MARCO passage ranking task](http://www.msmarco.org/) with [Pyserini](http://pyserini.io/), the Python interface to [Anserini](http://anserini.io).\n"
      ]
    },
    {
      "cell_type": "markdown",
      "metadata": {
        "id": "XR8bFJc0DgaE"
      },
      "source": [
        "## Installation\n"
      ]
    },
    {
      "cell_type": "markdown",
      "metadata": {
        "id": "f2vNd7bpJlDZ"
      },
      "source": [
        "Install Python dependencies:\n"
      ]
    },
    {
      "cell_type": "code",
      "metadata": {
        "id": "E_lt0-pXJia0",
        "colab": {
          "base_uri": "https://localhost:8080/"
        },
        "outputId": "6046b4cb-f1e7-4f7b-c5bd-d4c573701713"
      },
      "source": [
        "!pip install pyserini==0.12.0\n",
        "!pip install pytrec_eval\n",
        "import os\n",
        "os.environ[\"JAVA_HOME\"] = \"/usr/lib/jvm/java-11-openjdk-amd64\""
      ],
      "execution_count": null,
      "outputs": [
        {
          "output_type": "stream",
          "name": "stdout",
          "text": [
            "Looking in indexes: https://pypi.org/simple, https://us-python.pkg.dev/colab-wheels/public/simple/\n",
            "Collecting pyserini==0.12.0\n",
            "  Downloading pyserini-0.12.0-py3-none-any.whl (67.5 MB)\n",
            "\u001b[2K     \u001b[90m━━━━━━━━━━━━━━━━━━━━━━━━━━━━━━━━━━━━━━━━\u001b[0m \u001b[32m67.5/67.5 MB\u001b[0m \u001b[31m3.9 MB/s\u001b[0m eta \u001b[36m0:00:00\u001b[0m\n",
            "\u001b[?25hRequirement already satisfied: scikit-learn>=0.22.1 in /usr/local/lib/python3.9/dist-packages (from pyserini==0.12.0) (1.2.2)\n",
            "Requirement already satisfied: numpy>=1.18.1 in /usr/local/lib/python3.9/dist-packages (from pyserini==0.12.0) (1.22.4)\n",
            "Requirement already satisfied: tqdm>=4.56.0 in /usr/local/lib/python3.9/dist-packages (from pyserini==0.12.0) (4.65.0)\n",
            "Collecting transformers>=4.0.0\n",
            "  Downloading transformers-4.27.1-py3-none-any.whl (6.7 MB)\n",
            "\u001b[2K     \u001b[90m━━━━━━━━━━━━━━━━━━━━━━━━━━━━━━━━━━━━━━━━\u001b[0m \u001b[32m6.7/6.7 MB\u001b[0m \u001b[31m74.0 MB/s\u001b[0m eta \u001b[36m0:00:00\u001b[0m\n",
            "\u001b[?25hRequirement already satisfied: scipy>=1.4.1 in /usr/local/lib/python3.9/dist-packages (from pyserini==0.12.0) (1.10.1)\n",
            "Requirement already satisfied: pandas>=1.1.5 in /usr/local/lib/python3.9/dist-packages (from pyserini==0.12.0) (1.4.4)\n",
            "Requirement already satisfied: Cython>=0.29.21 in /usr/local/lib/python3.9/dist-packages (from pyserini==0.12.0) (0.29.33)\n",
            "Collecting pyjnius>=1.2.1\n",
            "  Downloading pyjnius-1.4.2-cp39-cp39-manylinux_2_17_x86_64.manylinux2014_x86_64.whl (1.5 MB)\n",
            "\u001b[2K     \u001b[90m━━━━━━━━━━━━━━━━━━━━━━━━━━━━━━━━━━━━━━━━\u001b[0m \u001b[32m1.5/1.5 MB\u001b[0m \u001b[31m56.2 MB/s\u001b[0m eta \u001b[36m0:00:00\u001b[0m\n",
            "\u001b[?25hCollecting sentencepiece>=0.1.95\n",
            "  Downloading sentencepiece-0.1.97-cp39-cp39-manylinux_2_17_x86_64.manylinux2014_x86_64.whl (1.3 MB)\n",
            "\u001b[2K     \u001b[90m━━━━━━━━━━━━━━━━━━━━━━━━━━━━━━━━━━━━━━━━\u001b[0m \u001b[32m1.3/1.3 MB\u001b[0m \u001b[31m58.8 MB/s\u001b[0m eta \u001b[36m0:00:00\u001b[0m\n",
            "\u001b[?25hRequirement already satisfied: pytz>=2020.1 in /usr/local/lib/python3.9/dist-packages (from pandas>=1.1.5->pyserini==0.12.0) (2022.7.1)\n",
            "Requirement already satisfied: python-dateutil>=2.8.1 in /usr/local/lib/python3.9/dist-packages (from pandas>=1.1.5->pyserini==0.12.0) (2.8.2)\n",
            "Requirement already satisfied: six>=1.7.0 in /usr/local/lib/python3.9/dist-packages (from pyjnius>=1.2.1->pyserini==0.12.0) (1.15.0)\n",
            "Requirement already satisfied: joblib>=1.1.1 in /usr/local/lib/python3.9/dist-packages (from scikit-learn>=0.22.1->pyserini==0.12.0) (1.1.1)\n",
            "Requirement already satisfied: threadpoolctl>=2.0.0 in /usr/local/lib/python3.9/dist-packages (from scikit-learn>=0.22.1->pyserini==0.12.0) (3.1.0)\n",
            "Requirement already satisfied: filelock in /usr/local/lib/python3.9/dist-packages (from transformers>=4.0.0->pyserini==0.12.0) (3.10.0)\n",
            "Requirement already satisfied: pyyaml>=5.1 in /usr/local/lib/python3.9/dist-packages (from transformers>=4.0.0->pyserini==0.12.0) (6.0)\n",
            "Collecting huggingface-hub<1.0,>=0.11.0\n",
            "  Downloading huggingface_hub-0.13.2-py3-none-any.whl (199 kB)\n",
            "\u001b[2K     \u001b[90m━━━━━━━━━━━━━━━━━━━━━━━━━━━━━━━━━━━━━━\u001b[0m \u001b[32m199.2/199.2 KB\u001b[0m \u001b[31m23.0 MB/s\u001b[0m eta \u001b[36m0:00:00\u001b[0m\n",
            "\u001b[?25hRequirement already satisfied: packaging>=20.0 in /usr/local/lib/python3.9/dist-packages (from transformers>=4.0.0->pyserini==0.12.0) (23.0)\n",
            "Requirement already satisfied: regex!=2019.12.17 in /usr/local/lib/python3.9/dist-packages (from transformers>=4.0.0->pyserini==0.12.0) (2022.10.31)\n",
            "Requirement already satisfied: requests in /usr/local/lib/python3.9/dist-packages (from transformers>=4.0.0->pyserini==0.12.0) (2.27.1)\n",
            "Collecting tokenizers!=0.11.3,<0.14,>=0.11.1\n",
            "  Downloading tokenizers-0.13.2-cp39-cp39-manylinux_2_17_x86_64.manylinux2014_x86_64.whl (7.6 MB)\n",
            "\u001b[2K     \u001b[90m━━━━━━━━━━━━━━━━━━━━━━━━━━━━━━━━━━━━━━━━\u001b[0m \u001b[32m7.6/7.6 MB\u001b[0m \u001b[31m80.4 MB/s\u001b[0m eta \u001b[36m0:00:00\u001b[0m\n",
            "\u001b[?25hRequirement already satisfied: typing-extensions>=3.7.4.3 in /usr/local/lib/python3.9/dist-packages (from huggingface-hub<1.0,>=0.11.0->transformers>=4.0.0->pyserini==0.12.0) (4.5.0)\n",
            "Requirement already satisfied: urllib3<1.27,>=1.21.1 in /usr/local/lib/python3.9/dist-packages (from requests->transformers>=4.0.0->pyserini==0.12.0) (1.26.15)\n",
            "Requirement already satisfied: charset-normalizer~=2.0.0 in /usr/local/lib/python3.9/dist-packages (from requests->transformers>=4.0.0->pyserini==0.12.0) (2.0.12)\n",
            "Requirement already satisfied: idna<4,>=2.5 in /usr/local/lib/python3.9/dist-packages (from requests->transformers>=4.0.0->pyserini==0.12.0) (3.4)\n",
            "Requirement already satisfied: certifi>=2017.4.17 in /usr/local/lib/python3.9/dist-packages (from requests->transformers>=4.0.0->pyserini==0.12.0) (2022.12.7)\n",
            "Installing collected packages: tokenizers, sentencepiece, pyjnius, huggingface-hub, transformers, pyserini\n",
            "Successfully installed huggingface-hub-0.13.2 pyjnius-1.4.2 pyserini-0.12.0 sentencepiece-0.1.97 tokenizers-0.13.2 transformers-4.27.1\n",
            "Looking in indexes: https://pypi.org/simple, https://us-python.pkg.dev/colab-wheels/public/simple/\n",
            "Collecting pytrec_eval\n",
            "  Downloading pytrec_eval-0.5.tar.gz (15 kB)\n",
            "  Preparing metadata (setup.py) ... \u001b[?25l\u001b[?25hdone\n",
            "Building wheels for collected packages: pytrec_eval\n",
            "  Building wheel for pytrec_eval (setup.py) ... \u001b[?25l\u001b[?25hdone\n",
            "  Created wheel for pytrec_eval: filename=pytrec_eval-0.5-cp39-cp39-linux_x86_64.whl size=293217 sha256=eaf8811f7a6ee8b85b29bca71e1febbe0fbd7b110858c95e5ad5b98e970305f0\n",
            "  Stored in directory: /root/.cache/pip/wheels/e9/91/35/6059501bca98e27e0b4f91ecaaff86c95ca7f4919ff22f0d54\n",
            "Successfully built pytrec_eval\n",
            "Installing collected packages: pytrec_eval\n",
            "Successfully installed pytrec_eval-0.5\n"
          ]
        }
      ]
    },
    {
      "cell_type": "markdown",
      "metadata": {
        "id": "RJ2MrEUuEk4D"
      },
      "source": [
        "## Usage"
      ]
    },
    {
      "cell_type": "markdown",
      "metadata": {
        "id": "NkD0kKxW9mHP"
      },
      "source": [
        "You can use `search` function to search over an index. The topics (i.e., queries) are already distributed in Pyserini:"
      ]
    },
    {
      "cell_type": "code",
      "metadata": {
        "id": "BeCaeA3qua4g",
        "colab": {
          "base_uri": "https://localhost:8080/"
        },
        "outputId": "b8e90533-4987-4814-a00a-74a8bfa0c650"
      },
      "source": [
        "from pyserini.search import get_topics\n",
        "\n",
        "topics = get_topics('msmarco-passage-dev-subset')\n",
        "print(f'{len(topics)} queries total')"
      ],
      "execution_count": null,
      "outputs": [
        {
          "output_type": "stream",
          "name": "stdout",
          "text": [
            "6980 queries total\n"
          ]
        }
      ]
    },
    {
      "cell_type": "markdown",
      "metadata": {
        "id": "YTQq2aZrvsXR"
      },
      "source": [
        "Let's take a look at a specific question. Topics often have different \"fields\": \"title\" is the one we want. (Again, this is just TREC parlance.)"
      ]
    },
    {
      "cell_type": "code",
      "metadata": {
        "id": "gAKHfd-2ux8h",
        "colab": {
          "base_uri": "https://localhost:8080/",
          "height": 35
        },
        "outputId": "164d7a92-7444-483a-f312-e69ec7b28240"
      },
      "source": [
        "topics[1102400]['title']"
      ],
      "execution_count": null,
      "outputs": [
        {
          "output_type": "execute_result",
          "data": {
            "text/plain": [
              "'why do bears hibernate'"
            ],
            "application/vnd.google.colaboratory.intrinsic+json": {
              "type": "string"
            }
          },
          "metadata": {},
          "execution_count": 3
        }
      ]
    },
    {
      "cell_type": "markdown",
      "metadata": {
        "id": "XaZi5frIwEPp"
      },
      "source": [
        "Next, we can initialize a searcher with a pre-built index, which Pyserini will automatically download:"
      ]
    },
    {
      "cell_type": "code",
      "metadata": {
        "colab": {
          "base_uri": "https://localhost:8080/"
        },
        "id": "INml5nQRM8Fq",
        "outputId": "045a91aa-e2e6-4fe3-8ea9-1f2f209644ca"
      },
      "source": [
        "from pyserini.search import SimpleSearcher\n",
        "\n",
        "searcher = SimpleSearcher.from_prebuilt_index('msmarco-passage')"
      ],
      "execution_count": null,
      "outputs": [
        {
          "output_type": "stream",
          "name": "stdout",
          "text": [
            "Attempting to initialize pre-built index msmarco-passage.\n",
            "Downloading index at https://git.uwaterloo.ca/jimmylin/anserini-indexes/raw/master/index-msmarco-passage-20201117-f87c94.tar.gz...\n"
          ]
        },
        {
          "output_type": "stream",
          "name": "stderr",
          "text": [
            "index-msmarco-passage-20201117-f87c94.tar.gz: 2.07GB [03:03, 12.1MB/s]                            \n"
          ]
        },
        {
          "output_type": "stream",
          "name": "stdout",
          "text": [
            "Extracting /root/.cache/pyserini/indexes/index-msmarco-passage-20201117-f87c94.tar.gz into /root/.cache/pyserini/indexes/index-msmarco-passage-20201117-f87c94.1efad4f1ae6a77e235042eff4be1612d...\n",
            "Initializing msmarco-passage...\n"
          ]
        }
      ]
    },
    {
      "cell_type": "markdown",
      "metadata": {
        "id": "slmoo3MiM8c3"
      },
      "source": [
        "Now we can search:"
      ]
    },
    {
      "cell_type": "code",
      "metadata": {
        "id": "yFZlcqEX0t1f",
        "colab": {
          "base_uri": "https://localhost:8080/"
        },
        "outputId": "2baa1255-d8ad-4862-e4ef-0131dc73867a"
      },
      "source": [
        "import json\n",
        "\n",
        "hits = searcher.search(topics[1102400]['title'])\n",
        "\n",
        "# Prints the first 10 hits\n",
        "for i in range(0, 10):\n",
        "    jsondoc = json.loads(hits[i].raw)\n",
        "    print(f'{i+1:2} {hits[i].score:.5f} {jsondoc[\"contents\"][:80]}...')"
      ],
      "execution_count": null,
      "outputs": [
        {
          "output_type": "stream",
          "name": "stdout",
          "text": [
            " 1 17.33580 Why do Bears hibernate? March 31, 2010, Joan, Leave a comment. Why do bears hibe...\n",
            " 2 13.23090 Why do bears hibernate? Watch this to discover how much effort is spent on survi...\n",
            " 3 13.13570 Technically, as the other anwerer said, bears do not hibernate, but there isn't ...\n",
            " 4 13.01460 It is a common misconception that bears hibernate during the winter. While bears...\n",
            " 5 13.00390 To prepare for hibernation, grizzlies must prepare a den, and consume an immense...\n",
            " 6 12.68940 Some zoo bears are fed year round, and do not hibernate. Since they do not under...\n",
            " 7 12.55450 Bears in zoos will not hibernate if food is available, though they will slow dow...\n",
            " 8 12.51710 All kinds of bears technically don't hibernate. They enter into a phase called t...\n",
            " 9 12.43500 Date: 12-11-2012. It is a common misconception that bears hibernate during the w...\n",
            "10 12.37460 While bears tend to slow down during the winter, they are not true hibernators. ...\n"
          ]
        }
      ]
    },
    {
      "cell_type": "markdown",
      "metadata": {
        "id": "xw6EjwPgPB_b"
      },
      "source": [
        "The `hits` data structure holds the `docid`, the retrieval score, as well as the document content:"
      ]
    },
    {
      "cell_type": "code",
      "metadata": {
        "id": "lGLZhQgANy3I",
        "colab": {
          "base_uri": "https://localhost:8080/",
          "height": 62
        },
        "outputId": "28a30786-18fc-4510-8699-69a0238fcbee"
      },
      "source": [
        "from IPython.core.display import display, HTML\n",
        "display(HTML('<div style=\"font-family: Times New Roman; padding-bottom:10px\">' + hits[0].raw + '</div>'))"
      ],
      "execution_count": null,
      "outputs": [
        {
          "output_type": "display_data",
          "data": {
            "text/plain": [
              "<IPython.core.display.HTML object>"
            ],
            "text/html": [
              "<div style=\"font-family: Times New Roman; padding-bottom:10px\">{\n",
              "  \"id\" : \"7287406\",\n",
              "  \"contents\" : \"Why do Bears hibernate? March 31, 2010, Joan, Leave a comment. Why do bears hibernate? When we hear the word âhibernateâ we always associate it with bears. That is because, while a lot of animals go through hibernation during the winter season such as squirrels, rodents and bats, the bear is the most famous when it comes to hibernating. What comes first to our mind is why do bears hibernate? First of all, letâs get to know the meaning of hibernation.\"\n",
              "}</div>"
            ]
          },
          "metadata": {}
        }
      ]
    },
    {
      "cell_type": "markdown",
      "metadata": {
        "id": "JOLbQXmPOvbJ"
      },
      "source": [
        "Let's run all the queries from the dev set:"
      ]
    },
    {
      "cell_type": "code",
      "metadata": {
        "id": "03sPnM3wWBfJ",
        "colab": {
          "base_uri": "https://localhost:8080/"
        },
        "outputId": "58368c4c-fb2c-456b-a9cd-41c3902a050f"
      },
      "source": [
        "from pyserini.search import SimpleSearcher\n",
        "\n",
        "def run_all_queries(file, topics, searcher):\n",
        "    with open(file, 'w') as runfile:\n",
        "        cnt = 0\n",
        "        print('Running {} queries in total'.format(len(topics)))\n",
        "        for id in topics:\n",
        "            query = topics[id]['title']\n",
        "            hits = searcher.search(query, 1000)\n",
        "            for i in range(0, len(hits)):\n",
        "                _ = runfile.write('{} Q0 {} {} {:.6f} Anserini\\n'.format(id, hits[i].docid, i+1, hits[i].score))\n",
        "            cnt += 1\n",
        "            if cnt % 100 == 0:\n",
        "                print(f'{cnt} queries completed')\n",
        "\n",
        "searcher = SimpleSearcher.from_prebuilt_index('msmarco-passage')\n",
        "\n",
        "run_all_queries('run-msmarco-passage-bm25.txt', topics, searcher)\n"
      ],
      "execution_count": null,
      "outputs": [
        {
          "output_type": "stream",
          "name": "stdout",
          "text": [
            "Attempting to initialize pre-built index msmarco-passage.\n",
            "/root/.cache/pyserini/indexes/index-msmarco-passage-20201117-f87c94.1efad4f1ae6a77e235042eff4be1612d already exists, skipping download.\n",
            "Initializing msmarco-passage...\n",
            "Running 6980 queries in total\n",
            "100 queries completed\n",
            "200 queries completed\n",
            "300 queries completed\n",
            "400 queries completed\n",
            "500 queries completed\n",
            "600 queries completed\n",
            "700 queries completed\n",
            "800 queries completed\n",
            "900 queries completed\n",
            "1000 queries completed\n",
            "1100 queries completed\n",
            "1200 queries completed\n",
            "1300 queries completed\n",
            "1400 queries completed\n",
            "1500 queries completed\n",
            "1600 queries completed\n",
            "1700 queries completed\n",
            "1800 queries completed\n",
            "1900 queries completed\n",
            "2000 queries completed\n",
            "2100 queries completed\n",
            "2200 queries completed\n",
            "2300 queries completed\n",
            "2400 queries completed\n",
            "2500 queries completed\n",
            "2600 queries completed\n",
            "2700 queries completed\n",
            "2800 queries completed\n",
            "2900 queries completed\n",
            "3000 queries completed\n",
            "3100 queries completed\n",
            "3200 queries completed\n",
            "3300 queries completed\n",
            "3400 queries completed\n",
            "3500 queries completed\n",
            "3600 queries completed\n",
            "3700 queries completed\n",
            "3800 queries completed\n",
            "3900 queries completed\n",
            "4000 queries completed\n",
            "4100 queries completed\n",
            "4200 queries completed\n",
            "4300 queries completed\n",
            "4400 queries completed\n",
            "4500 queries completed\n",
            "4600 queries completed\n",
            "4700 queries completed\n",
            "4800 queries completed\n",
            "4900 queries completed\n",
            "5000 queries completed\n",
            "5100 queries completed\n",
            "5200 queries completed\n",
            "5300 queries completed\n",
            "5400 queries completed\n",
            "5500 queries completed\n",
            "5600 queries completed\n",
            "5700 queries completed\n",
            "5800 queries completed\n",
            "5900 queries completed\n",
            "6000 queries completed\n",
            "6100 queries completed\n",
            "6200 queries completed\n",
            "6300 queries completed\n",
            "6400 queries completed\n",
            "6500 queries completed\n",
            "6600 queries completed\n",
            "6700 queries completed\n",
            "6800 queries completed\n",
            "6900 queries completed\n"
          ]
        }
      ]
    },
    {
      "cell_type": "markdown",
      "source": [
        "  Let's evaluate using `pytrec_eval`: the expected MAP, Recall@1000, NDCG@10 should be: X, Y, Z."
      ],
      "metadata": {
        "id": "ZzGDtDPC6QL3"
      }
    },
    {
      "cell_type": "code",
      "source": [
        "!wget https://raw.githubusercontent.com/castorini/anserini-tools/28a938134b652a9153172edc0d82b7b765b66216/topics-and-qrels/qrels.msmarco-passage.dev-subset.txt"
      ],
      "metadata": {
        "id": "fJIlSKhy5uq2",
        "colab": {
          "base_uri": "https://localhost:8080/"
        },
        "outputId": "bf16c618-a5c5-470a-a08c-7bc37a9f6b87"
      },
      "execution_count": null,
      "outputs": [
        {
          "output_type": "stream",
          "name": "stdout",
          "text": [
            "--2023-03-19 11:56:32--  https://raw.githubusercontent.com/castorini/anserini-tools/28a938134b652a9153172edc0d82b7b765b66216/topics-and-qrels/qrels.msmarco-passage.dev-subset.txt\n",
            "Resolving raw.githubusercontent.com (raw.githubusercontent.com)... 185.199.108.133, 185.199.109.133, 185.199.110.133, ...\n",
            "Connecting to raw.githubusercontent.com (raw.githubusercontent.com)|185.199.108.133|:443... connected.\n",
            "HTTP request sent, awaiting response... 200 OK\n",
            "Length: 143300 (140K) [text/plain]\n",
            "Saving to: ‘qrels.msmarco-passage.dev-subset.txt’\n",
            "\n",
            "qrels.msmarco-passa 100%[===================>] 139.94K  --.-KB/s    in 0.03s   \n",
            "\n",
            "2023-03-19 11:56:32 (4.95 MB/s) - ‘qrels.msmarco-passage.dev-subset.txt’ saved [143300/143300]\n",
            "\n"
          ]
        }
      ]
    },
    {
      "cell_type": "code",
      "source": [
        "import pytrec_eval\n",
        "import numpy as np\n",
        "with open('qrels.msmarco-passage.dev-subset.txt', 'r') as f_qrel:\n",
        "    qrel = pytrec_eval.parse_qrel(f_qrel)\n",
        "\n",
        "with open('run-msmarco-passage-bm25.txt', 'r') as f_run:\n",
        "    first_run = pytrec_eval.parse_run(f_run)\n",
        "\n",
        "measures = {'map', 'ndcg_cut.10', 'recall.1000'}\n",
        "evaluator = pytrec_eval.RelevanceEvaluator(qrel, measures)\n",
        "results = evaluator.evaluate(first_run)\n",
        "for measure in list(measures):\n",
        "    mean_measure = np.mean([ele[measure.replace(\".\",\"_\")] for ele in results.values()])\n",
        "    print(measure, mean_measure)"
      ],
      "metadata": {
        "id": "4W25BJxm48_s"
      },
      "execution_count": null,
      "outputs": []
    },
    {
      "cell_type": "markdown",
      "source": [
        "# Loading queries and document collection\n",
        "## We provide two document and corpus loader functions to facilitate having access to the content of queries and documents by having their ids. This could help answer exercise two."
      ],
      "metadata": {
        "id": "CP8zrlN9E8Cz"
      }
    },
    {
      "cell_type": "markdown",
      "source": [
        "## downloading files"
      ],
      "metadata": {
        "id": "k3lxuLGaFXty"
      }
    },
    {
      "cell_type": "code",
      "source": [
        "!wget https://raw.githubusercontent.com/castorini/anserini-tools/28a938134b652a9153172edc0d82b7b765b66216/topics-and-qrels/topics.msmarco-passage.dev-subset.txt\n",
        "!wget https://msmarco.z22.web.core.windows.net/msmarcoranking/collection.tar.gz"
      ],
      "metadata": {
        "id": "-iIsKpyVFZyI",
        "colab": {
          "base_uri": "https://localhost:8080/"
        },
        "outputId": "4b135633-f2e4-47e3-e674-26c1311c59a7"
      },
      "execution_count": null,
      "outputs": [
        {
          "output_type": "stream",
          "name": "stdout",
          "text": [
            "--2024-03-14 07:06:36--  https://raw.githubusercontent.com/castorini/anserini-tools/28a938134b652a9153172edc0d82b7b765b66216/topics-and-qrels/topics.msmarco-passage.dev-subset.txt\n",
            "Resolving raw.githubusercontent.com (raw.githubusercontent.com)... 185.199.108.133, 185.199.109.133, 185.199.110.133, ...\n",
            "Connecting to raw.githubusercontent.com (raw.githubusercontent.com)|185.199.108.133|:443... connected.\n",
            "HTTP request sent, awaiting response... 200 OK\n",
            "Length: 290193 (283K) [text/plain]\n",
            "Saving to: ‘topics.msmarco-passage.dev-subset.txt’\n",
            "\n",
            "topics.msmarco-pass 100%[===================>] 283.39K  --.-KB/s    in 0.03s   \n",
            "\n",
            "2024-03-14 07:06:36 (8.13 MB/s) - ‘topics.msmarco-passage.dev-subset.txt’ saved [290193/290193]\n",
            "\n",
            "--2024-03-14 07:06:36--  https://msmarco.z22.web.core.windows.net/msmarcoranking/collection.tar.gz\n",
            "Resolving msmarco.z22.web.core.windows.net (msmarco.z22.web.core.windows.net)... 20.150.34.1\n",
            "Connecting to msmarco.z22.web.core.windows.net (msmarco.z22.web.core.windows.net)|20.150.34.1|:443... connected.\n",
            "HTTP request sent, awaiting response... 200 OK\n",
            "Length: 1035009698 (987M) [application/octet-stream]\n",
            "Saving to: ‘collection.tar.gz’\n",
            "\n",
            "collection.tar.gz   100%[===================>] 987.06M  53.2MB/s    in 20s     \n",
            "\n",
            "2024-03-14 07:06:57 (49.5 MB/s) - ‘collection.tar.gz’ saved [1035009698/1035009698]\n",
            "\n"
          ]
        }
      ]
    },
    {
      "cell_type": "code",
      "source": [
        "!tar -xvzf collection.tar.gz"
      ],
      "metadata": {
        "id": "sQXl7i4AF6na",
        "colab": {
          "base_uri": "https://localhost:8080/"
        },
        "outputId": "79029295-a859-4ffb-c2c0-d3f50d7d97d6"
      },
      "execution_count": null,
      "outputs": [
        {
          "output_type": "stream",
          "name": "stdout",
          "text": [
            "collection.tsv\n"
          ]
        }
      ]
    },
    {
      "cell_type": "code",
      "source": [
        "import tqdm\n",
        "def read_collection(f_path):\n",
        "  collection = {}\n",
        "  with open(f_path, \"r\") as fp:\n",
        "    for line in tqdm.tqdm(fp, desc=\"reading {}\".format(f_path)):\n",
        "      did, dtext = line.strip().split(\"\\t\")\n",
        "      collection[did] = dtext\n",
        "  return collection"
      ],
      "metadata": {
        "id": "OqFP-L93FMhX"
      },
      "execution_count": null,
      "outputs": []
    },
    {
      "cell_type": "code",
      "source": [
        "queries_dict = read_collection(\"topics.msmarco-passage.dev-subset.txt\")"
      ],
      "metadata": {
        "colab": {
          "base_uri": "https://localhost:8080/"
        },
        "id": "3ykXUVgAGRLu",
        "outputId": "0d7a432e-040c-4fbd-9223-639a047f3717"
      },
      "execution_count": null,
      "outputs": [
        {
          "output_type": "stream",
          "name": "stderr",
          "text": [
            "reading topics.msmarco-passage.dev-subset.txt: 6980it [00:00, 879774.08it/s]\n"
          ]
        }
      ]
    },
    {
      "cell_type": "code",
      "source": [
        "documents_dict = read_collection(\"collection.tsv\")"
      ],
      "metadata": {
        "colab": {
          "base_uri": "https://localhost:8080/"
        },
        "id": "nyHF5wxHGBUn",
        "outputId": "6e4c38be-a202-471c-8c1f-4aca388bdea9"
      },
      "execution_count": null,
      "outputs": [
        {
          "output_type": "stream",
          "name": "stderr",
          "text": [
            "reading collection.tsv: 8841823it [00:20, 429018.07it/s]\n"
          ]
        }
      ]
    },
    {
      "cell_type": "markdown",
      "source": [
        "#### Demo: representing the content of a document and a query"
      ],
      "metadata": {
        "id": "eTajun-0G5bz"
      }
    },
    {
      "cell_type": "code",
      "source": [
        "#get id of first document in the dict.\n",
        "print(\"id of first document in the documents_dict: \", list(documents_dict.keys())[0])\n",
        "#get id of first query in the dict.\n",
        "print(\"id of first query in the queries_dict: \", list(queries_dict.keys())[0])\n",
        "\n",
        "print(\"\\n----- here we print their content ----\\n\")\n",
        "\n",
        "print(\"content of document id 0: \", documents_dict['0'])\n",
        "print(\"content of query id 1048585: \", queries_dict['1048585'])"
      ],
      "metadata": {
        "colab": {
          "base_uri": "https://localhost:8080/"
        },
        "id": "e-nTa6y_HGkH",
        "outputId": "ecade5e3-821c-42a5-e700-37e2181b913c"
      },
      "execution_count": null,
      "outputs": [
        {
          "output_type": "stream",
          "name": "stdout",
          "text": [
            "id of first document in the documents_dict:  0\n",
            "id of first query in the queries_dict:  1048585\n",
            "\n",
            "----- here we print their content ----\n",
            "\n",
            "content of document id 0:  The presence of communication amid scientific minds was equally important to the success of the Manhattan Project as scientific intellect was. The only cloud hanging over the impressive achievement of the atomic researchers and engineers is what their success truly meant; hundreds of thousands of innocent lives obliterated.\n",
            "content of query id 1048585:  what is paula deen's brother\n"
          ]
        }
      ]
    },
    {
      "cell_type": "markdown",
      "source": [
        "## Clues on answering questions manually\n"
      ],
      "metadata": {
        "id": "GD_KvieWzZ4u"
      }
    },
    {
      "cell_type": "code",
      "source": [
        "!wget https://www.dropbox.com/s/7wcskq2o9dr8qiv/bert-run.text"
      ],
      "metadata": {
        "colab": {
          "base_uri": "https://localhost:8080/"
        },
        "id": "V26cyd1Yz_DS",
        "outputId": "fa644d04-96d2-403a-96ae-b74a35a0e76f"
      },
      "execution_count": null,
      "outputs": [
        {
          "output_type": "stream",
          "name": "stdout",
          "text": [
            "--2023-03-19 12:00:42--  https://www.dropbox.com/s/7wcskq2o9dr8qiv/bert-run.text\n",
            "Resolving www.dropbox.com (www.dropbox.com)... 162.125.80.18, 2620:100:6035:18::a27d:5512\n",
            "Connecting to www.dropbox.com (www.dropbox.com)|162.125.80.18|:443... connected.\n",
            "HTTP request sent, awaiting response... 302 Found\n",
            "Location: /s/raw/7wcskq2o9dr8qiv/bert-run.text [following]\n",
            "--2023-03-19 12:00:43--  https://www.dropbox.com/s/raw/7wcskq2o9dr8qiv/bert-run.text\n",
            "Reusing existing connection to www.dropbox.com:443.\n",
            "HTTP request sent, awaiting response... 302 Found\n",
            "Location: https://ucba85837bbacfdd9d0d758fa70b.dl.dropboxusercontent.com/cd/0/inline/B4gGjLB8HXjKFZAUFstr3ao51ZAJZGaWCa_1-EMCOeAymwTT7BIrwTDQTwfsxmFjTiav04qiQdTAH3JjVsSnuBiWiYkMmbDI2Pht1Y0BNQEETCqOT5VeKQ0XoYP5OA0rsGlXIhxsPG0UcGTjiiIcpQBXMPOS_qlSNeIMxm9boGjXsA/file# [following]\n",
            "--2023-03-19 12:00:43--  https://ucba85837bbacfdd9d0d758fa70b.dl.dropboxusercontent.com/cd/0/inline/B4gGjLB8HXjKFZAUFstr3ao51ZAJZGaWCa_1-EMCOeAymwTT7BIrwTDQTwfsxmFjTiav04qiQdTAH3JjVsSnuBiWiYkMmbDI2Pht1Y0BNQEETCqOT5VeKQ0XoYP5OA0rsGlXIhxsPG0UcGTjiiIcpQBXMPOS_qlSNeIMxm9boGjXsA/file\n",
            "Resolving ucba85837bbacfdd9d0d758fa70b.dl.dropboxusercontent.com (ucba85837bbacfdd9d0d758fa70b.dl.dropboxusercontent.com)... 162.125.69.15, 2620:100:6035:15::a27d:550f\n",
            "Connecting to ucba85837bbacfdd9d0d758fa70b.dl.dropboxusercontent.com (ucba85837bbacfdd9d0d758fa70b.dl.dropboxusercontent.com)|162.125.69.15|:443... connected.\n",
            "HTTP request sent, awaiting response... 200 OK\n",
            "Length: 353662713 (337M) [text/plain]\n",
            "Saving to: ‘bert-run.text’\n",
            "\n",
            "bert-run.text       100%[===================>] 337.28M  10.5MB/s    in 34s     \n",
            "\n",
            "2023-03-19 12:01:20 (9.80 MB/s) - ‘bert-run.text’ saved [353662713/353662713]\n",
            "\n"
          ]
        }
      ]
    },
    {
      "cell_type": "code",
      "source": [
        "import pytrec_eval\n",
        "#load qrel, bm25 ranking run file, and bert ranking run file\n",
        "with open('qrels.msmarco-passage.dev-subset.txt', 'r') as f_qrel:\n",
        "    qrel = pytrec_eval.parse_qrel(f_qrel)\n",
        "\n",
        "with open('run-msmarco-passage-bm25.txt', 'r') as f_run:\n",
        "    bm25_run = pytrec_eval.parse_run(f_run)\n",
        "\n",
        "with open('bert-run.text', 'r') as f_run:\n",
        "    bert_run = pytrec_eval.parse_run(f_run)\n",
        "\n",
        "# set measures and initialize evaluator\n",
        "measures = {'recall.500', 'recall.10'}\n",
        "evaluator = pytrec_eval.RelevanceEvaluator(qrel, measures)\n",
        "\n",
        "# evaluate bm25 per query\n",
        "bm25_results = evaluator.evaluate(bm25_run)\n",
        "\n",
        "# evaluate bert per query\n",
        "bert_results = evaluator.evaluate(bert_run)"
      ],
      "metadata": {
        "id": "5_KeA1fyzbSM"
      },
      "execution_count": null,
      "outputs": []
    },
    {
      "cell_type": "code",
      "source": [
        "bm25_recall500_zeros = {}\n",
        "for query, measures_results in bm25_results.items():\n",
        "  recall_500 = float(measures_results['recall_500'])\n",
        "  if recall_500 == 0.0:\n",
        "    bm25_recall500_zeros[query] = 0\n",
        "\n",
        "#print last 10 queries with recall@500=0\n",
        "print(list(bm25_recall500_zeros.keys())[-10:])"
      ],
      "metadata": {
        "colab": {
          "base_uri": "https://localhost:8080/"
        },
        "id": "fz2w9Pqozlau",
        "outputId": "a72723b3-7004-4b49-f85c-a32973699d3a"
      },
      "execution_count": null,
      "outputs": [
        {
          "output_type": "stream",
          "name": "stdout",
          "text": [
            "['1101552', '199572', '857943', '1083278', '320792', '717751', '329114', '1029791', '1083268', '1083267']\n"
          ]
        }
      ]
    },
    {
      "cell_type": "code",
      "source": [
        "#print bert effectiveness for a query for that BM25 recall@500=0 and BERT recall@10=1\n",
        "for query, measures_results in bert_results.items():\n",
        "  recall_10 = float(measures_results['recall_10'])\n",
        "  if recall_10 == 1.0 and query in bm25_recall500_zeros.keys():\n",
        "    print(\"bert effectiveness for {} query in terms of recall@10 is:\".format(query), bert_results[query]['recall_10'])\n",
        "    break"
      ],
      "metadata": {
        "colab": {
          "base_uri": "https://localhost:8080/"
        },
        "id": "3w4w6eLr3VYJ",
        "outputId": "1ee6e267-9b4a-475d-f6d9-1028b2adf874"
      },
      "execution_count": null,
      "outputs": [
        {
          "output_type": "stream",
          "name": "stdout",
          "text": [
            "bert effectiveness for 999921 query in terms of recall@10 is: 1.0\n"
          ]
        }
      ]
    }
  ]
}